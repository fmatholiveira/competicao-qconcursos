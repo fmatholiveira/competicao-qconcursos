{
 "cells": [
  {
   "cell_type": "markdown",
   "metadata": {},
   "source": [
    "# <font color='orange'>0. IMPORTAÇÕES</font>"
   ]
  },
  {
   "cell_type": "markdown",
   "metadata": {},
   "source": [
    "## <font color='green'>0.1. Bibliotecas</font>"
   ]
  },
  {
   "cell_type": "code",
   "execution_count": 141,
   "metadata": {},
   "outputs": [],
   "source": [
    "import pandas as pd\n",
    "import numpy as np\n",
    "\n",
    "\n",
    "from helper_functions import jupyter_settings\n",
    "\n",
    "from sklearn.preprocessing  import RobustScaler\n",
    "from sklearn.linear_model   import LogisticRegression\n",
    "from sklearn.ensemble       import GradientBoostingClassifier\n",
    "\n",
    "jupyter_settings()"
   ]
  },
  {
   "cell_type": "markdown",
   "metadata": {},
   "source": [
    "## <font color='green'>0.2. Dados</font>"
   ]
  },
  {
   "cell_type": "code",
   "execution_count": 142,
   "metadata": {},
   "outputs": [],
   "source": [
    "df = pd.read_csv('../data/raw/Dataset_model.csv', low_memory=False)\n",
    "df_add = pd.read_csv('../data/raw/subjects_questions.csv', low_memory=False)\n",
    "df_submit = pd.read_csv('../data/raw/Submit.csv', sep=';')"
   ]
  },
  {
   "cell_type": "code",
   "execution_count": 143,
   "metadata": {},
   "outputs": [],
   "source": [
    "df_add = df_add.groupby('novo_question_id').agg({'subject_id': list}).reset_index()"
   ]
  },
  {
   "cell_type": "code",
   "execution_count": 144,
   "metadata": {},
   "outputs": [],
   "source": [
    "df = df.merge(df_add, how='left', on='novo_question_id')\n",
    "df_submit = df_submit.merge(df_add, how='left', on='novo_question_id')"
   ]
  },
  {
   "cell_type": "markdown",
   "metadata": {},
   "source": [
    "## <font color='green'>0.3. Definindo valores constantes no estudo</font>"
   ]
  },
  {
   "cell_type": "code",
   "execution_count": 145,
   "metadata": {},
   "outputs": [],
   "source": [
    "target_col = 'acertou'\n",
    "random_seed = 42"
   ]
  },
  {
   "cell_type": "markdown",
   "metadata": {},
   "source": [
    "# <font color='orange'>1. DESCRIÇÃO DOS DADOS</font>"
   ]
  },
  {
   "cell_type": "code",
   "execution_count": 146,
   "metadata": {},
   "outputs": [
    {
     "data": {
      "text/html": [
       "<div>\n",
       "<style scoped>\n",
       "    .dataframe tbody tr th:only-of-type {\n",
       "        vertical-align: middle;\n",
       "    }\n",
       "\n",
       "    .dataframe tbody tr th {\n",
       "        vertical-align: top;\n",
       "    }\n",
       "\n",
       "    .dataframe thead th {\n",
       "        text-align: right;\n",
       "    }\n",
       "</style>\n",
       "<table border=\"1\" class=\"dataframe\">\n",
       "  <thead>\n",
       "    <tr style=\"text-align: right;\">\n",
       "      <th></th>\n",
       "      <th>novo_user_id</th>\n",
       "      <th>city</th>\n",
       "      <th>country</th>\n",
       "      <th>device</th>\n",
       "      <th>device_type</th>\n",
       "      <th>os</th>\n",
       "      <th>platform</th>\n",
       "      <th>region</th>\n",
       "      <th>gp:carrers</th>\n",
       "      <th>gp:college type</th>\n",
       "      <th>gp:degree course</th>\n",
       "      <th>gp:previous experience</th>\n",
       "      <th>gp:school type</th>\n",
       "      <th>gp:segment</th>\n",
       "      <th>gp:source_project</th>\n",
       "      <th>acertou</th>\n",
       "      <th>created_at</th>\n",
       "      <th>row</th>\n",
       "      <th>commented_by_professor</th>\n",
       "      <th>difficulty</th>\n",
       "      <th>discipline_id</th>\n",
       "      <th>examining_board_id</th>\n",
       "      <th>institute_id</th>\n",
       "      <th>knowledge_area_id</th>\n",
       "      <th>modality_id</th>\n",
       "      <th>nullified</th>\n",
       "      <th>outdated</th>\n",
       "      <th>product_id</th>\n",
       "      <th>publication_year</th>\n",
       "      <th>right_answer</th>\n",
       "      <th>scholarity_id</th>\n",
       "      <th>novo_question_id</th>\n",
       "      <th>subject_id</th>\n",
       "    </tr>\n",
       "  </thead>\n",
       "  <tbody>\n",
       "    <tr>\n",
       "      <th>0</th>\n",
       "      <td>1</td>\n",
       "      <td>Rio de Janeiro</td>\n",
       "      <td>Brazil</td>\n",
       "      <td>Apple iPhone</td>\n",
       "      <td>Apple iPhone 11 Pro Max</td>\n",
       "      <td>ios 15.4.1</td>\n",
       "      <td>iOS</td>\n",
       "      <td>Rio de Janeiro</td>\n",
       "      <td>Tribunal, Administrativa</td>\n",
       "      <td>NaN</td>\n",
       "      <td>NaN</td>\n",
       "      <td>beginner</td>\n",
       "      <td>NaN</td>\n",
       "      <td>Concurso Público</td>\n",
       "      <td>ils</td>\n",
       "      <td>0</td>\n",
       "      <td>2022-03-20 10:06:06</td>\n",
       "      <td>1</td>\n",
       "      <td>0.0</td>\n",
       "      <td>4.0</td>\n",
       "      <td>238.0</td>\n",
       "      <td>73.0</td>\n",
       "      <td>4126.0</td>\n",
       "      <td>13.0</td>\n",
       "      <td>1.0</td>\n",
       "      <td>0.0</td>\n",
       "      <td>0.0</td>\n",
       "      <td>1.0</td>\n",
       "      <td>2022.0</td>\n",
       "      <td>A</td>\n",
       "      <td>2.0</td>\n",
       "      <td>489400</td>\n",
       "      <td>[nan]</td>\n",
       "    </tr>\n",
       "    <tr>\n",
       "      <th>1</th>\n",
       "      <td>1</td>\n",
       "      <td>Rio de Janeiro</td>\n",
       "      <td>Brazil</td>\n",
       "      <td>Apple iPhone</td>\n",
       "      <td>Apple iPhone 11 Pro Max</td>\n",
       "      <td>ios 15.4.1</td>\n",
       "      <td>iOS</td>\n",
       "      <td>Rio de Janeiro</td>\n",
       "      <td>Tribunal, Administrativa</td>\n",
       "      <td>NaN</td>\n",
       "      <td>NaN</td>\n",
       "      <td>beginner</td>\n",
       "      <td>NaN</td>\n",
       "      <td>Concurso Público</td>\n",
       "      <td>ils</td>\n",
       "      <td>0</td>\n",
       "      <td>2022-03-20 10:08:25</td>\n",
       "      <td>2</td>\n",
       "      <td>0.0</td>\n",
       "      <td>4.0</td>\n",
       "      <td>238.0</td>\n",
       "      <td>73.0</td>\n",
       "      <td>4126.0</td>\n",
       "      <td>13.0</td>\n",
       "      <td>1.0</td>\n",
       "      <td>0.0</td>\n",
       "      <td>0.0</td>\n",
       "      <td>1.0</td>\n",
       "      <td>2022.0</td>\n",
       "      <td>C</td>\n",
       "      <td>2.0</td>\n",
       "      <td>489399</td>\n",
       "      <td>[nan]</td>\n",
       "    </tr>\n",
       "    <tr>\n",
       "      <th>2</th>\n",
       "      <td>1</td>\n",
       "      <td>Rio de Janeiro</td>\n",
       "      <td>Brazil</td>\n",
       "      <td>Apple iPhone</td>\n",
       "      <td>Apple iPhone 11 Pro Max</td>\n",
       "      <td>ios 15.4.1</td>\n",
       "      <td>iOS</td>\n",
       "      <td>Rio de Janeiro</td>\n",
       "      <td>Tribunal, Administrativa</td>\n",
       "      <td>NaN</td>\n",
       "      <td>NaN</td>\n",
       "      <td>beginner</td>\n",
       "      <td>NaN</td>\n",
       "      <td>Concurso Público</td>\n",
       "      <td>ils</td>\n",
       "      <td>1</td>\n",
       "      <td>2022-03-20 10:09:49</td>\n",
       "      <td>3</td>\n",
       "      <td>0.0</td>\n",
       "      <td>3.0</td>\n",
       "      <td>238.0</td>\n",
       "      <td>73.0</td>\n",
       "      <td>4126.0</td>\n",
       "      <td>13.0</td>\n",
       "      <td>1.0</td>\n",
       "      <td>0.0</td>\n",
       "      <td>0.0</td>\n",
       "      <td>1.0</td>\n",
       "      <td>2022.0</td>\n",
       "      <td>D</td>\n",
       "      <td>2.0</td>\n",
       "      <td>489398</td>\n",
       "      <td>[nan]</td>\n",
       "    </tr>\n",
       "    <tr>\n",
       "      <th>3</th>\n",
       "      <td>1</td>\n",
       "      <td>Rio de Janeiro</td>\n",
       "      <td>Brazil</td>\n",
       "      <td>Apple iPhone</td>\n",
       "      <td>Apple iPhone 11 Pro Max</td>\n",
       "      <td>ios 15.4.1</td>\n",
       "      <td>iOS</td>\n",
       "      <td>Rio de Janeiro</td>\n",
       "      <td>Tribunal, Administrativa</td>\n",
       "      <td>NaN</td>\n",
       "      <td>NaN</td>\n",
       "      <td>beginner</td>\n",
       "      <td>NaN</td>\n",
       "      <td>Concurso Público</td>\n",
       "      <td>ils</td>\n",
       "      <td>0</td>\n",
       "      <td>2022-03-20 10:10:27</td>\n",
       "      <td>4</td>\n",
       "      <td>0.0</td>\n",
       "      <td>4.0</td>\n",
       "      <td>238.0</td>\n",
       "      <td>73.0</td>\n",
       "      <td>4126.0</td>\n",
       "      <td>13.0</td>\n",
       "      <td>1.0</td>\n",
       "      <td>0.0</td>\n",
       "      <td>0.0</td>\n",
       "      <td>1.0</td>\n",
       "      <td>2022.0</td>\n",
       "      <td>A</td>\n",
       "      <td>2.0</td>\n",
       "      <td>489397</td>\n",
       "      <td>[nan]</td>\n",
       "    </tr>\n",
       "    <tr>\n",
       "      <th>4</th>\n",
       "      <td>1</td>\n",
       "      <td>Rio de Janeiro</td>\n",
       "      <td>Brazil</td>\n",
       "      <td>Apple iPhone</td>\n",
       "      <td>Apple iPhone 11 Pro Max</td>\n",
       "      <td>ios 15.4.1</td>\n",
       "      <td>iOS</td>\n",
       "      <td>Rio de Janeiro</td>\n",
       "      <td>Tribunal, Administrativa</td>\n",
       "      <td>NaN</td>\n",
       "      <td>NaN</td>\n",
       "      <td>beginner</td>\n",
       "      <td>NaN</td>\n",
       "      <td>Concurso Público</td>\n",
       "      <td>ils</td>\n",
       "      <td>1</td>\n",
       "      <td>2022-03-20 10:12:12</td>\n",
       "      <td>5</td>\n",
       "      <td>0.0</td>\n",
       "      <td>3.0</td>\n",
       "      <td>238.0</td>\n",
       "      <td>73.0</td>\n",
       "      <td>4126.0</td>\n",
       "      <td>13.0</td>\n",
       "      <td>1.0</td>\n",
       "      <td>0.0</td>\n",
       "      <td>0.0</td>\n",
       "      <td>1.0</td>\n",
       "      <td>2022.0</td>\n",
       "      <td>E</td>\n",
       "      <td>2.0</td>\n",
       "      <td>489396</td>\n",
       "      <td>[nan]</td>\n",
       "    </tr>\n",
       "  </tbody>\n",
       "</table>\n",
       "</div>"
      ],
      "text/plain": [
       "   novo_user_id            city country        device  \\\n",
       "0             1  Rio de Janeiro  Brazil  Apple iPhone   \n",
       "1             1  Rio de Janeiro  Brazil  Apple iPhone   \n",
       "2             1  Rio de Janeiro  Brazil  Apple iPhone   \n",
       "3             1  Rio de Janeiro  Brazil  Apple iPhone   \n",
       "4             1  Rio de Janeiro  Brazil  Apple iPhone   \n",
       "\n",
       "               device_type          os platform          region  \\\n",
       "0  Apple iPhone 11 Pro Max  ios 15.4.1      iOS  Rio de Janeiro   \n",
       "1  Apple iPhone 11 Pro Max  ios 15.4.1      iOS  Rio de Janeiro   \n",
       "2  Apple iPhone 11 Pro Max  ios 15.4.1      iOS  Rio de Janeiro   \n",
       "3  Apple iPhone 11 Pro Max  ios 15.4.1      iOS  Rio de Janeiro   \n",
       "4  Apple iPhone 11 Pro Max  ios 15.4.1      iOS  Rio de Janeiro   \n",
       "\n",
       "                 gp:carrers gp:college type gp:degree course  \\\n",
       "0  Tribunal, Administrativa             NaN              NaN   \n",
       "1  Tribunal, Administrativa             NaN              NaN   \n",
       "2  Tribunal, Administrativa             NaN              NaN   \n",
       "3  Tribunal, Administrativa             NaN              NaN   \n",
       "4  Tribunal, Administrativa             NaN              NaN   \n",
       "\n",
       "  gp:previous experience gp:school type        gp:segment gp:source_project  \\\n",
       "0               beginner            NaN  Concurso Público               ils   \n",
       "1               beginner            NaN  Concurso Público               ils   \n",
       "2               beginner            NaN  Concurso Público               ils   \n",
       "3               beginner            NaN  Concurso Público               ils   \n",
       "4               beginner            NaN  Concurso Público               ils   \n",
       "\n",
       "   acertou           created_at  row  commented_by_professor  difficulty  \\\n",
       "0        0  2022-03-20 10:06:06    1                     0.0         4.0   \n",
       "1        0  2022-03-20 10:08:25    2                     0.0         4.0   \n",
       "2        1  2022-03-20 10:09:49    3                     0.0         3.0   \n",
       "3        0  2022-03-20 10:10:27    4                     0.0         4.0   \n",
       "4        1  2022-03-20 10:12:12    5                     0.0         3.0   \n",
       "\n",
       "   discipline_id  examining_board_id  institute_id  knowledge_area_id  \\\n",
       "0          238.0                73.0        4126.0               13.0   \n",
       "1          238.0                73.0        4126.0               13.0   \n",
       "2          238.0                73.0        4126.0               13.0   \n",
       "3          238.0                73.0        4126.0               13.0   \n",
       "4          238.0                73.0        4126.0               13.0   \n",
       "\n",
       "   modality_id  nullified  outdated  product_id  publication_year  \\\n",
       "0          1.0        0.0       0.0         1.0            2022.0   \n",
       "1          1.0        0.0       0.0         1.0            2022.0   \n",
       "2          1.0        0.0       0.0         1.0            2022.0   \n",
       "3          1.0        0.0       0.0         1.0            2022.0   \n",
       "4          1.0        0.0       0.0         1.0            2022.0   \n",
       "\n",
       "  right_answer  scholarity_id  novo_question_id subject_id  \n",
       "0            A            2.0            489400      [nan]  \n",
       "1            C            2.0            489399      [nan]  \n",
       "2            D            2.0            489398      [nan]  \n",
       "3            A            2.0            489397      [nan]  \n",
       "4            E            2.0            489396      [nan]  "
      ]
     },
     "execution_count": 146,
     "metadata": {},
     "output_type": "execute_result"
    }
   ],
   "source": [
    "df.head()"
   ]
  },
  {
   "cell_type": "markdown",
   "metadata": {},
   "source": [
    "## <font color='green'>1.1. Dimensão dos Dados</font>"
   ]
  },
  {
   "cell_type": "code",
   "execution_count": 147,
   "metadata": {},
   "outputs": [
    {
     "name": "stdout",
     "output_type": "stream",
     "text": [
      "O dataset possui 2000000 linhas\n",
      "O dataset possui 33 colunas\n"
     ]
    }
   ],
   "source": [
    "print('O dataset possui {} linhas'.format(df.shape[0]))\n",
    "print('O dataset possui {} colunas'.format(df.shape[1]))"
   ]
  },
  {
   "cell_type": "markdown",
   "metadata": {},
   "source": [
    "## <font color='green'>1.2. Tipos das Variáveis</font>"
   ]
  },
  {
   "cell_type": "code",
   "execution_count": 148,
   "metadata": {},
   "outputs": [
    {
     "data": {
      "text/plain": [
       "novo_user_id                int64\n",
       "city                       object\n",
       "country                    object\n",
       "device                     object\n",
       "device_type                object\n",
       "os                         object\n",
       "platform                   object\n",
       "region                     object\n",
       "gp:carrers                 object\n",
       "gp:college type            object\n",
       "gp:degree course           object\n",
       "gp:previous experience     object\n",
       "gp:school type             object\n",
       "gp:segment                 object\n",
       "gp:source_project          object\n",
       "acertou                     int64\n",
       "created_at                 object\n",
       "row                         int64\n",
       "commented_by_professor    float64\n",
       "difficulty                float64\n",
       "discipline_id             float64\n",
       "examining_board_id        float64\n",
       "institute_id              float64\n",
       "knowledge_area_id         float64\n",
       "modality_id               float64\n",
       "nullified                 float64\n",
       "outdated                  float64\n",
       "product_id                float64\n",
       "publication_year          float64\n",
       "right_answer               object\n",
       "scholarity_id             float64\n",
       "novo_question_id            int64\n",
       "subject_id                 object\n",
       "dtype: object"
      ]
     },
     "execution_count": 148,
     "metadata": {},
     "output_type": "execute_result"
    }
   ],
   "source": [
    "df.dtypes"
   ]
  },
  {
   "cell_type": "markdown",
   "metadata": {},
   "source": [
    "## <font color='green'>1.3. Verificando NAs</font>"
   ]
  },
  {
   "cell_type": "code",
   "execution_count": 149,
   "metadata": {},
   "outputs": [
    {
     "data": {
      "text/plain": [
       "novo_user_id                    0\n",
       "city                       142400\n",
       "country                     13200\n",
       "device                      71600\n",
       "device_type                163200\n",
       "os                          13200\n",
       "platform                    13200\n",
       "region                      13700\n",
       "gp:carrers                 116900\n",
       "gp:college type           1997500\n",
       "gp:degree course          1997500\n",
       "gp:previous experience    1052200\n",
       "gp:school type            1997500\n",
       "gp:segment                  35200\n",
       "gp:source_project           38000\n",
       "acertou                         0\n",
       "created_at                      0\n",
       "row                             0\n",
       "commented_by_professor        178\n",
       "difficulty                   2629\n",
       "discipline_id                 178\n",
       "examining_board_id            182\n",
       "institute_id                  182\n",
       "knowledge_area_id             178\n",
       "modality_id                   178\n",
       "nullified                     178\n",
       "outdated                      178\n",
       "product_id                    178\n",
       "publication_year              187\n",
       "right_answer                  178\n",
       "scholarity_id                 178\n",
       "novo_question_id                0\n",
       "subject_id                      0\n",
       "dtype: int64"
      ]
     },
     "execution_count": 149,
     "metadata": {},
     "output_type": "execute_result"
    }
   ],
   "source": [
    "df.isna().sum()"
   ]
  },
  {
   "cell_type": "markdown",
   "metadata": {},
   "source": [
    "## <font color='green'>1.4. Preenchendo NAs</font>"
   ]
  },
  {
   "cell_type": "code",
   "execution_count": 150,
   "metadata": {},
   "outputs": [],
   "source": [
    "# Removendo colunas com muitos NAs (serão utilizadas em próximos ciclos)\n",
    "remove_cols = [ 'city', 'country', 'device', 'device_type', 'os', 'platform',\n",
    "                'region', 'gp:carrers', 'gp:college type', 'gp:degree course',\n",
    "                'gp:previous experience', 'gp:school type', 'gp:segment', 'gp:source_project'   ]\n",
    "\n",
    "df.drop(remove_cols, axis=1, inplace=True)\n",
    "df_submit.drop(remove_cols, axis=1, inplace=True)"
   ]
  },
  {
   "cell_type": "code",
   "execution_count": 151,
   "metadata": {},
   "outputs": [
    {
     "data": {
      "text/plain": [
       "novo_user_id                 0\n",
       "acertou                      0\n",
       "created_at                   0\n",
       "row                          0\n",
       "commented_by_professor     178\n",
       "difficulty                2629\n",
       "discipline_id              178\n",
       "examining_board_id         182\n",
       "institute_id               182\n",
       "knowledge_area_id          178\n",
       "modality_id                178\n",
       "nullified                  178\n",
       "outdated                   178\n",
       "product_id                 178\n",
       "publication_year           187\n",
       "right_answer               178\n",
       "scholarity_id              178\n",
       "novo_question_id             0\n",
       "subject_id                   0\n",
       "dtype: int64"
      ]
     },
     "execution_count": 151,
     "metadata": {},
     "output_type": "execute_result"
    }
   ],
   "source": [
    "df.isna().sum()"
   ]
  },
  {
   "cell_type": "code",
   "execution_count": 152,
   "metadata": {},
   "outputs": [],
   "source": [
    "# Preenchendo faltantes com 0 no primeiro ciclo\n",
    "cols_fill_na = [    'commented_by_professor', 'difficulty', 'discipline_id', 'examining_board_id',\n",
    "                    'institute_id', 'knowledge_area_id', 'modality_id', 'nullified', 'outdated',\n",
    "                    'product_id', 'publication_year', 'right_answer', 'scholarity_id'    ]\n",
    "\n",
    "for i in cols_fill_na:\n",
    "    df[i].fillna(0, inplace=True)\n",
    "    df_submit[i].fillna(0, inplace=True)"
   ]
  },
  {
   "cell_type": "markdown",
   "metadata": {},
   "source": [
    "## <font color='green'>1.5. Alterando os tipos de Variáveis</font>"
   ]
  },
  {
   "cell_type": "code",
   "execution_count": 153,
   "metadata": {},
   "outputs": [],
   "source": [
    "cols_to_int = [ 'commented_by_professor', 'difficulty', 'discipline_id', 'examining_board_id',\n",
    "                'institute_id', 'knowledge_area_id', 'modality_id', 'nullified', 'outdated',\n",
    "                'product_id', 'publication_year', 'scholarity_id', 'row'    ]\n",
    "\n",
    "df[cols_to_int] = df[cols_to_int].astype(np.int64()).astype(object)\n",
    "df_submit[cols_to_int] = df_submit[cols_to_int].astype(np.int64()).astype(object)"
   ]
  },
  {
   "cell_type": "markdown",
   "metadata": {},
   "source": [
    "# <font color='orange'>2. FEATURE ENGINEERING</font>"
   ]
  },
  {
   "cell_type": "markdown",
   "metadata": {},
   "source": [
    "# <font color='orange'>3. FILTRAGEM DOS DADOS</font>"
   ]
  },
  {
   "cell_type": "markdown",
   "metadata": {},
   "source": [
    "# <font color='orange'>4. ANÁLISE EXPLORATÓRIA DOS DADOS</font>"
   ]
  },
  {
   "cell_type": "markdown",
   "metadata": {},
   "source": [
    "## <font color='green'>4.1. Variável Resposta</font>"
   ]
  },
  {
   "cell_type": "code",
   "execution_count": 154,
   "metadata": {},
   "outputs": [
    {
     "data": {
      "text/plain": [
       "1    0.654281\n",
       "0    0.345720\n",
       "Name: acertou, dtype: float64"
      ]
     },
     "execution_count": 154,
     "metadata": {},
     "output_type": "execute_result"
    }
   ],
   "source": [
    "df[target_col].value_counts(normalize=True)"
   ]
  },
  {
   "cell_type": "markdown",
   "metadata": {},
   "source": [
    "# <font color='orange'>5. PREPARAÇÃO DOS DADOS</font>"
   ]
  },
  {
   "cell_type": "code",
   "execution_count": 155,
   "metadata": {},
   "outputs": [],
   "source": [
    "from category_encoders.target_encoder import TargetEncoder"
   ]
  },
  {
   "cell_type": "code",
   "execution_count": 156,
   "metadata": {},
   "outputs": [],
   "source": [
    "cols_selected = [ \n",
    "'row',\n",
    "'commented_by_professor',\n",
    "'difficulty',\n",
    "'discipline_id',\n",
    "'examining_board_id',\n",
    "'institute_id',\n",
    "'knowledge_area_id',\n",
    "'modality_id',\n",
    "'nullified',\n",
    "'outdated',\n",
    "'product_id',\n",
    "'publication_year',\n",
    "'scholarity_id',\n",
    "'novo_question_id',\n",
    "]\n",
    "\n"
   ]
  },
  {
   "cell_type": "code",
   "execution_count": 157,
   "metadata": {},
   "outputs": [
    {
     "name": "stderr",
     "output_type": "stream",
     "text": [
      "c:\\Users\\fmath\\repos\\challenge-qconcursos\\lib\\site-packages\\category_encoders\\target_encoder.py:122: FutureWarning: Default parameter min_samples_leaf will change in version 2.6.See https://github.com/scikit-learn-contrib/category_encoders/issues/327\n",
      "  warnings.warn(\"Default parameter min_samples_leaf will change in version 2.6.\"\n",
      "c:\\Users\\fmath\\repos\\challenge-qconcursos\\lib\\site-packages\\category_encoders\\target_encoder.py:127: FutureWarning: Default parameter smoothing will change in version 2.6.See https://github.com/scikit-learn-contrib/category_encoders/issues/327\n",
      "  warnings.warn(\"Default parameter smoothing will change in version 2.6.\"\n",
      "c:\\Users\\fmath\\repos\\challenge-qconcursos\\lib\\site-packages\\category_encoders\\target_encoder.py:122: FutureWarning: Default parameter min_samples_leaf will change in version 2.6.See https://github.com/scikit-learn-contrib/category_encoders/issues/327\n",
      "  warnings.warn(\"Default parameter min_samples_leaf will change in version 2.6.\"\n",
      "c:\\Users\\fmath\\repos\\challenge-qconcursos\\lib\\site-packages\\category_encoders\\target_encoder.py:127: FutureWarning: Default parameter smoothing will change in version 2.6.See https://github.com/scikit-learn-contrib/category_encoders/issues/327\n",
      "  warnings.warn(\"Default parameter smoothing will change in version 2.6.\"\n"
     ]
    },
    {
     "data": {
      "text/html": [
       "<style>#sk-container-id-12 {color: black;background-color: white;}#sk-container-id-12 pre{padding: 0;}#sk-container-id-12 div.sk-toggleable {background-color: white;}#sk-container-id-12 label.sk-toggleable__label {cursor: pointer;display: block;width: 100%;margin-bottom: 0;padding: 0.3em;box-sizing: border-box;text-align: center;}#sk-container-id-12 label.sk-toggleable__label-arrow:before {content: \"▸\";float: left;margin-right: 0.25em;color: #696969;}#sk-container-id-12 label.sk-toggleable__label-arrow:hover:before {color: black;}#sk-container-id-12 div.sk-estimator:hover label.sk-toggleable__label-arrow:before {color: black;}#sk-container-id-12 div.sk-toggleable__content {max-height: 0;max-width: 0;overflow: hidden;text-align: left;background-color: #f0f8ff;}#sk-container-id-12 div.sk-toggleable__content pre {margin: 0.2em;color: black;border-radius: 0.25em;background-color: #f0f8ff;}#sk-container-id-12 input.sk-toggleable__control:checked~div.sk-toggleable__content {max-height: 200px;max-width: 100%;overflow: auto;}#sk-container-id-12 input.sk-toggleable__control:checked~label.sk-toggleable__label-arrow:before {content: \"▾\";}#sk-container-id-12 div.sk-estimator input.sk-toggleable__control:checked~label.sk-toggleable__label {background-color: #d4ebff;}#sk-container-id-12 div.sk-label input.sk-toggleable__control:checked~label.sk-toggleable__label {background-color: #d4ebff;}#sk-container-id-12 input.sk-hidden--visually {border: 0;clip: rect(1px 1px 1px 1px);clip: rect(1px, 1px, 1px, 1px);height: 1px;margin: -1px;overflow: hidden;padding: 0;position: absolute;width: 1px;}#sk-container-id-12 div.sk-estimator {font-family: monospace;background-color: #f0f8ff;border: 1px dotted black;border-radius: 0.25em;box-sizing: border-box;margin-bottom: 0.5em;}#sk-container-id-12 div.sk-estimator:hover {background-color: #d4ebff;}#sk-container-id-12 div.sk-parallel-item::after {content: \"\";width: 100%;border-bottom: 1px solid gray;flex-grow: 1;}#sk-container-id-12 div.sk-label:hover label.sk-toggleable__label {background-color: #d4ebff;}#sk-container-id-12 div.sk-serial::before {content: \"\";position: absolute;border-left: 1px solid gray;box-sizing: border-box;top: 0;bottom: 0;left: 50%;z-index: 0;}#sk-container-id-12 div.sk-serial {display: flex;flex-direction: column;align-items: center;background-color: white;padding-right: 0.2em;padding-left: 0.2em;position: relative;}#sk-container-id-12 div.sk-item {position: relative;z-index: 1;}#sk-container-id-12 div.sk-parallel {display: flex;align-items: stretch;justify-content: center;background-color: white;position: relative;}#sk-container-id-12 div.sk-item::before, #sk-container-id-12 div.sk-parallel-item::before {content: \"\";position: absolute;border-left: 1px solid gray;box-sizing: border-box;top: 0;bottom: 0;left: 50%;z-index: -1;}#sk-container-id-12 div.sk-parallel-item {display: flex;flex-direction: column;z-index: 1;position: relative;background-color: white;}#sk-container-id-12 div.sk-parallel-item:first-child::after {align-self: flex-end;width: 50%;}#sk-container-id-12 div.sk-parallel-item:last-child::after {align-self: flex-start;width: 50%;}#sk-container-id-12 div.sk-parallel-item:only-child::after {width: 0;}#sk-container-id-12 div.sk-dashed-wrapped {border: 1px dashed gray;margin: 0 0.4em 0.5em 0.4em;box-sizing: border-box;padding-bottom: 0.4em;background-color: white;}#sk-container-id-12 div.sk-label label {font-family: monospace;font-weight: bold;display: inline-block;line-height: 1.2em;}#sk-container-id-12 div.sk-label-container {text-align: center;}#sk-container-id-12 div.sk-container {/* jupyter's `normalize.less` sets `[hidden] { display: none; }` but bootstrap.min.css set `[hidden] { display: none !important; }` so we also need the `!important` here to be able to override the default hidden behavior on the sphinx rendered scikit-learn.org. See: https://github.com/scikit-learn/scikit-learn/issues/21755 */display: inline-block !important;position: relative;}#sk-container-id-12 div.sk-text-repr-fallback {display: none;}</style><div id=\"sk-container-id-12\" class=\"sk-top-container\"><div class=\"sk-text-repr-fallback\"><pre>TargetEncoder(cols=[&#x27;modality_id&#x27;, &#x27;nullified&#x27;, &#x27;outdated&#x27;, &#x27;product_id&#x27;,\n",
       "                    &#x27;publication_year&#x27;, &#x27;scholarity_id&#x27;])</pre><b>In a Jupyter environment, please rerun this cell to show the HTML representation or trust the notebook. <br />On GitHub, the HTML representation is unable to render, please try loading this page with nbviewer.org.</b></div><div class=\"sk-container\" hidden><div class=\"sk-item\"><div class=\"sk-estimator sk-toggleable\"><input class=\"sk-toggleable__control sk-hidden--visually\" id=\"sk-estimator-id-12\" type=\"checkbox\" checked><label for=\"sk-estimator-id-12\" class=\"sk-toggleable__label sk-toggleable__label-arrow\">TargetEncoder</label><div class=\"sk-toggleable__content\"><pre>TargetEncoder(cols=[&#x27;modality_id&#x27;, &#x27;nullified&#x27;, &#x27;outdated&#x27;, &#x27;product_id&#x27;,\n",
       "                    &#x27;publication_year&#x27;, &#x27;scholarity_id&#x27;])</pre></div></div></div></div></div>"
      ],
      "text/plain": [
       "TargetEncoder(cols=['modality_id', 'nullified', 'outdated', 'product_id',\n",
       "                    'publication_year', 'scholarity_id'])"
      ]
     },
     "execution_count": 157,
     "metadata": {},
     "output_type": "execute_result"
    }
   ],
   "source": [
    "# ---\n",
    "te1 = TargetEncoder()\n",
    "te1.fit(df[cols_selected[0:7]], df[target_col])\n",
    "\n",
    "# ---\n",
    "te2 = TargetEncoder()\n",
    "te2.fit(df[cols_selected[7:-1]], df[target_col])"
   ]
  },
  {
   "cell_type": "code",
   "execution_count": 158,
   "metadata": {},
   "outputs": [],
   "source": [
    "# ---\n",
    "df[cols_selected[0:7]] = te1.transform(df[cols_selected[0:7]])\n",
    "df[cols_selected[7:-1]] = te2.transform(df[cols_selected[7:-1]])\n",
    "\n",
    "# ---\n",
    "df_submit[cols_selected[0:7]] = te1.transform(df_submit[cols_selected[0:7]])\n",
    "df_submit[cols_selected[7:-1]] = te2.transform(df_submit[cols_selected[7:-1]])"
   ]
  },
  {
   "cell_type": "markdown",
   "metadata": {},
   "source": [
    "# <font color='orange'>6. SELEÇÃO DE VARIÁVEIS</font>"
   ]
  },
  {
   "cell_type": "markdown",
   "metadata": {},
   "source": [
    "# <font color='orange'>7. TREINAMENTO DE MODELOS</font>"
   ]
  },
  {
   "cell_type": "code",
   "execution_count": 126,
   "metadata": {},
   "outputs": [],
   "source": [
    "from sklearn.model_selection import cross_validate"
   ]
  },
  {
   "cell_type": "code",
   "execution_count": 127,
   "metadata": {},
   "outputs": [],
   "source": [
    "model = GradientBoostingClassifier()"
   ]
  },
  {
   "cell_type": "code",
   "execution_count": 128,
   "metadata": {},
   "outputs": [],
   "source": [
    "# cv_results = cross_validate(model, df[cols_selected], df[target_col], cv=3, scoring='f1')"
   ]
  },
  {
   "cell_type": "code",
   "execution_count": 133,
   "metadata": {},
   "outputs": [
    {
     "data": {
      "text/plain": [
       "{'fit_time': array([227.38399839, 223.11022592, 217.23665261]),\n",
       " 'score_time': array([1.34260583, 1.37035227, 1.37064481]),\n",
       " 'test_score': array([0.7816661 , 0.77564845, 0.76989178])}"
      ]
     },
     "execution_count": 133,
     "metadata": {},
     "output_type": "execute_result"
    }
   ],
   "source": [
    "cv_results"
   ]
  },
  {
   "cell_type": "code",
   "execution_count": 134,
   "metadata": {},
   "outputs": [
    {
     "data": {
      "text/html": [
       "<style>#sk-container-id-11 {color: black;background-color: white;}#sk-container-id-11 pre{padding: 0;}#sk-container-id-11 div.sk-toggleable {background-color: white;}#sk-container-id-11 label.sk-toggleable__label {cursor: pointer;display: block;width: 100%;margin-bottom: 0;padding: 0.3em;box-sizing: border-box;text-align: center;}#sk-container-id-11 label.sk-toggleable__label-arrow:before {content: \"▸\";float: left;margin-right: 0.25em;color: #696969;}#sk-container-id-11 label.sk-toggleable__label-arrow:hover:before {color: black;}#sk-container-id-11 div.sk-estimator:hover label.sk-toggleable__label-arrow:before {color: black;}#sk-container-id-11 div.sk-toggleable__content {max-height: 0;max-width: 0;overflow: hidden;text-align: left;background-color: #f0f8ff;}#sk-container-id-11 div.sk-toggleable__content pre {margin: 0.2em;color: black;border-radius: 0.25em;background-color: #f0f8ff;}#sk-container-id-11 input.sk-toggleable__control:checked~div.sk-toggleable__content {max-height: 200px;max-width: 100%;overflow: auto;}#sk-container-id-11 input.sk-toggleable__control:checked~label.sk-toggleable__label-arrow:before {content: \"▾\";}#sk-container-id-11 div.sk-estimator input.sk-toggleable__control:checked~label.sk-toggleable__label {background-color: #d4ebff;}#sk-container-id-11 div.sk-label input.sk-toggleable__control:checked~label.sk-toggleable__label {background-color: #d4ebff;}#sk-container-id-11 input.sk-hidden--visually {border: 0;clip: rect(1px 1px 1px 1px);clip: rect(1px, 1px, 1px, 1px);height: 1px;margin: -1px;overflow: hidden;padding: 0;position: absolute;width: 1px;}#sk-container-id-11 div.sk-estimator {font-family: monospace;background-color: #f0f8ff;border: 1px dotted black;border-radius: 0.25em;box-sizing: border-box;margin-bottom: 0.5em;}#sk-container-id-11 div.sk-estimator:hover {background-color: #d4ebff;}#sk-container-id-11 div.sk-parallel-item::after {content: \"\";width: 100%;border-bottom: 1px solid gray;flex-grow: 1;}#sk-container-id-11 div.sk-label:hover label.sk-toggleable__label {background-color: #d4ebff;}#sk-container-id-11 div.sk-serial::before {content: \"\";position: absolute;border-left: 1px solid gray;box-sizing: border-box;top: 0;bottom: 0;left: 50%;z-index: 0;}#sk-container-id-11 div.sk-serial {display: flex;flex-direction: column;align-items: center;background-color: white;padding-right: 0.2em;padding-left: 0.2em;position: relative;}#sk-container-id-11 div.sk-item {position: relative;z-index: 1;}#sk-container-id-11 div.sk-parallel {display: flex;align-items: stretch;justify-content: center;background-color: white;position: relative;}#sk-container-id-11 div.sk-item::before, #sk-container-id-11 div.sk-parallel-item::before {content: \"\";position: absolute;border-left: 1px solid gray;box-sizing: border-box;top: 0;bottom: 0;left: 50%;z-index: -1;}#sk-container-id-11 div.sk-parallel-item {display: flex;flex-direction: column;z-index: 1;position: relative;background-color: white;}#sk-container-id-11 div.sk-parallel-item:first-child::after {align-self: flex-end;width: 50%;}#sk-container-id-11 div.sk-parallel-item:last-child::after {align-self: flex-start;width: 50%;}#sk-container-id-11 div.sk-parallel-item:only-child::after {width: 0;}#sk-container-id-11 div.sk-dashed-wrapped {border: 1px dashed gray;margin: 0 0.4em 0.5em 0.4em;box-sizing: border-box;padding-bottom: 0.4em;background-color: white;}#sk-container-id-11 div.sk-label label {font-family: monospace;font-weight: bold;display: inline-block;line-height: 1.2em;}#sk-container-id-11 div.sk-label-container {text-align: center;}#sk-container-id-11 div.sk-container {/* jupyter's `normalize.less` sets `[hidden] { display: none; }` but bootstrap.min.css set `[hidden] { display: none !important; }` so we also need the `!important` here to be able to override the default hidden behavior on the sphinx rendered scikit-learn.org. See: https://github.com/scikit-learn/scikit-learn/issues/21755 */display: inline-block !important;position: relative;}#sk-container-id-11 div.sk-text-repr-fallback {display: none;}</style><div id=\"sk-container-id-11\" class=\"sk-top-container\"><div class=\"sk-text-repr-fallback\"><pre>GradientBoostingClassifier()</pre><b>In a Jupyter environment, please rerun this cell to show the HTML representation or trust the notebook. <br />On GitHub, the HTML representation is unable to render, please try loading this page with nbviewer.org.</b></div><div class=\"sk-container\" hidden><div class=\"sk-item\"><div class=\"sk-estimator sk-toggleable\"><input class=\"sk-toggleable__control sk-hidden--visually\" id=\"sk-estimator-id-11\" type=\"checkbox\" checked><label for=\"sk-estimator-id-11\" class=\"sk-toggleable__label sk-toggleable__label-arrow\">GradientBoostingClassifier</label><div class=\"sk-toggleable__content\"><pre>GradientBoostingClassifier()</pre></div></div></div></div></div>"
      ],
      "text/plain": [
       "GradientBoostingClassifier()"
      ]
     },
     "execution_count": 134,
     "metadata": {},
     "output_type": "execute_result"
    }
   ],
   "source": [
    "model.fit(df[cols_selected], df[target_col])"
   ]
  },
  {
   "cell_type": "code",
   "execution_count": 159,
   "metadata": {},
   "outputs": [
    {
     "data": {
      "text/html": [
       "<div>\n",
       "<style scoped>\n",
       "    .dataframe tbody tr th:only-of-type {\n",
       "        vertical-align: middle;\n",
       "    }\n",
       "\n",
       "    .dataframe tbody tr th {\n",
       "        vertical-align: top;\n",
       "    }\n",
       "\n",
       "    .dataframe thead th {\n",
       "        text-align: right;\n",
       "    }\n",
       "</style>\n",
       "<table border=\"1\" class=\"dataframe\">\n",
       "  <thead>\n",
       "    <tr style=\"text-align: right;\">\n",
       "      <th></th>\n",
       "      <th>novo_user_id</th>\n",
       "      <th>acertou</th>\n",
       "      <th>created_at</th>\n",
       "      <th>row</th>\n",
       "      <th>commented_by_professor</th>\n",
       "      <th>difficulty</th>\n",
       "      <th>discipline_id</th>\n",
       "      <th>examining_board_id</th>\n",
       "      <th>institute_id</th>\n",
       "      <th>knowledge_area_id</th>\n",
       "      <th>modality_id</th>\n",
       "      <th>nullified</th>\n",
       "      <th>outdated</th>\n",
       "      <th>product_id</th>\n",
       "      <th>publication_year</th>\n",
       "      <th>right_answer</th>\n",
       "      <th>scholarity_id</th>\n",
       "      <th>novo_question_id</th>\n",
       "      <th>subject_id</th>\n",
       "    </tr>\n",
       "  </thead>\n",
       "  <tbody>\n",
       "    <tr>\n",
       "      <th>0</th>\n",
       "      <td>1</td>\n",
       "      <td>NaN</td>\n",
       "      <td>23/03/2022 21:46</td>\n",
       "      <td>0.654281</td>\n",
       "      <td>0.656691</td>\n",
       "      <td>0.650133</td>\n",
       "      <td>0.609048</td>\n",
       "      <td>0.596064</td>\n",
       "      <td>0.595023</td>\n",
       "      <td>0.667238</td>\n",
       "      <td>0.629218</td>\n",
       "      <td>0.654642</td>\n",
       "      <td>0.655232</td>\n",
       "      <td>0.657642</td>\n",
       "      <td>0.631144</td>\n",
       "      <td>B</td>\n",
       "      <td>0.64085</td>\n",
       "      <td>484766</td>\n",
       "      <td>[1908.0, 6564.0]</td>\n",
       "    </tr>\n",
       "    <tr>\n",
       "      <th>1</th>\n",
       "      <td>2</td>\n",
       "      <td>NaN</td>\n",
       "      <td>25/03/2016 22:23</td>\n",
       "      <td>0.654281</td>\n",
       "      <td>0.656691</td>\n",
       "      <td>0.835415</td>\n",
       "      <td>0.640998</td>\n",
       "      <td>0.676633</td>\n",
       "      <td>0.703349</td>\n",
       "      <td>0.639369</td>\n",
       "      <td>0.629218</td>\n",
       "      <td>0.654642</td>\n",
       "      <td>0.655232</td>\n",
       "      <td>0.657642</td>\n",
       "      <td>0.660656</td>\n",
       "      <td>C</td>\n",
       "      <td>0.64085</td>\n",
       "      <td>159545</td>\n",
       "      <td>[20423.0, 20867.0]</td>\n",
       "    </tr>\n",
       "    <tr>\n",
       "      <th>2</th>\n",
       "      <td>3</td>\n",
       "      <td>NaN</td>\n",
       "      <td>02/12/2017 23:21</td>\n",
       "      <td>0.654281</td>\n",
       "      <td>0.656691</td>\n",
       "      <td>0.320012</td>\n",
       "      <td>0.624068</td>\n",
       "      <td>0.624384</td>\n",
       "      <td>0.636194</td>\n",
       "      <td>0.645611</td>\n",
       "      <td>0.629218</td>\n",
       "      <td>0.654642</td>\n",
       "      <td>0.655232</td>\n",
       "      <td>0.657642</td>\n",
       "      <td>0.654476</td>\n",
       "      <td>C</td>\n",
       "      <td>0.64085</td>\n",
       "      <td>233145</td>\n",
       "      <td>[13881.0, 13902.0, 13933.0]</td>\n",
       "    </tr>\n",
       "    <tr>\n",
       "      <th>3</th>\n",
       "      <td>4</td>\n",
       "      <td>NaN</td>\n",
       "      <td>29/09/2019 17:04</td>\n",
       "      <td>0.654281</td>\n",
       "      <td>0.652337</td>\n",
       "      <td>0.835415</td>\n",
       "      <td>0.680741</td>\n",
       "      <td>0.697314</td>\n",
       "      <td>0.709656</td>\n",
       "      <td>0.657894</td>\n",
       "      <td>0.730685</td>\n",
       "      <td>0.654642</td>\n",
       "      <td>0.655232</td>\n",
       "      <td>0.657642</td>\n",
       "      <td>0.657146</td>\n",
       "      <td>C</td>\n",
       "      <td>0.64085</td>\n",
       "      <td>108082</td>\n",
       "      <td>[49.0, 8608.0]</td>\n",
       "    </tr>\n",
       "    <tr>\n",
       "      <th>4</th>\n",
       "      <td>5</td>\n",
       "      <td>NaN</td>\n",
       "      <td>11/09/2017 18:50</td>\n",
       "      <td>0.654281</td>\n",
       "      <td>0.656691</td>\n",
       "      <td>0.474593</td>\n",
       "      <td>0.668954</td>\n",
       "      <td>0.630929</td>\n",
       "      <td>0.640983</td>\n",
       "      <td>0.667238</td>\n",
       "      <td>0.629218</td>\n",
       "      <td>0.654642</td>\n",
       "      <td>0.655232</td>\n",
       "      <td>0.657642</td>\n",
       "      <td>0.663414</td>\n",
       "      <td>A</td>\n",
       "      <td>0.64085</td>\n",
       "      <td>151695</td>\n",
       "      <td>[305.0, 10772.0]</td>\n",
       "    </tr>\n",
       "  </tbody>\n",
       "</table>\n",
       "</div>"
      ],
      "text/plain": [
       "   novo_user_id  acertou        created_at       row  commented_by_professor  \\\n",
       "0             1      NaN  23/03/2022 21:46  0.654281                0.656691   \n",
       "1             2      NaN  25/03/2016 22:23  0.654281                0.656691   \n",
       "2             3      NaN  02/12/2017 23:21  0.654281                0.656691   \n",
       "3             4      NaN  29/09/2019 17:04  0.654281                0.652337   \n",
       "4             5      NaN  11/09/2017 18:50  0.654281                0.656691   \n",
       "\n",
       "   difficulty  discipline_id  examining_board_id  institute_id  \\\n",
       "0    0.650133       0.609048            0.596064      0.595023   \n",
       "1    0.835415       0.640998            0.676633      0.703349   \n",
       "2    0.320012       0.624068            0.624384      0.636194   \n",
       "3    0.835415       0.680741            0.697314      0.709656   \n",
       "4    0.474593       0.668954            0.630929      0.640983   \n",
       "\n",
       "   knowledge_area_id  modality_id  nullified  outdated  product_id  \\\n",
       "0           0.667238     0.629218   0.654642  0.655232    0.657642   \n",
       "1           0.639369     0.629218   0.654642  0.655232    0.657642   \n",
       "2           0.645611     0.629218   0.654642  0.655232    0.657642   \n",
       "3           0.657894     0.730685   0.654642  0.655232    0.657642   \n",
       "4           0.667238     0.629218   0.654642  0.655232    0.657642   \n",
       "\n",
       "   publication_year right_answer  scholarity_id  novo_question_id  \\\n",
       "0          0.631144            B        0.64085            484766   \n",
       "1          0.660656            C        0.64085            159545   \n",
       "2          0.654476            C        0.64085            233145   \n",
       "3          0.657146            C        0.64085            108082   \n",
       "4          0.663414            A        0.64085            151695   \n",
       "\n",
       "                    subject_id  \n",
       "0             [1908.0, 6564.0]  \n",
       "1           [20423.0, 20867.0]  \n",
       "2  [13881.0, 13902.0, 13933.0]  \n",
       "3               [49.0, 8608.0]  \n",
       "4             [305.0, 10772.0]  "
      ]
     },
     "execution_count": 159,
     "metadata": {},
     "output_type": "execute_result"
    }
   ],
   "source": [
    "df_submit.head()"
   ]
  },
  {
   "cell_type": "code",
   "execution_count": 160,
   "metadata": {},
   "outputs": [],
   "source": [
    "y_hat = model.predict(df_submit[cols_selected])"
   ]
  },
  {
   "cell_type": "code",
   "execution_count": 161,
   "metadata": {},
   "outputs": [],
   "source": [
    "df_submit['pred'] = y_hat"
   ]
  },
  {
   "cell_type": "code",
   "execution_count": 164,
   "metadata": {},
   "outputs": [],
   "source": [
    "df_submit['pred'].to_csv('../data/submissions/submission_01_20221007.csv', index=False)"
   ]
  },
  {
   "cell_type": "code",
   "execution_count": null,
   "metadata": {},
   "outputs": [],
   "source": [
    "import pickle\n",
    "pickle.dump(model, open('../models/model_01.pkl', 'wb'))"
   ]
  },
  {
   "cell_type": "markdown",
   "metadata": {},
   "source": [
    "# <font color='orange'>8. AJUSTE DOS HIPERPARÂMETROS</font>"
   ]
  },
  {
   "cell_type": "code",
   "execution_count": null,
   "metadata": {},
   "outputs": [],
   "source": []
  }
 ],
 "metadata": {
  "kernelspec": {
   "display_name": "Python 3.8.0 ('challenge-qconcursos': venv)",
   "language": "python",
   "name": "python3"
  },
  "language_info": {
   "codemirror_mode": {
    "name": "ipython",
    "version": 3
   },
   "file_extension": ".py",
   "mimetype": "text/x-python",
   "name": "python",
   "nbconvert_exporter": "python",
   "pygments_lexer": "ipython3",
   "version": "3.8.0"
  },
  "orig_nbformat": 4,
  "vscode": {
   "interpreter": {
    "hash": "919fde331bebbaec018611844faea0ee4c6a0bd82722adbf61d262982d1c1515"
   }
  }
 },
 "nbformat": 4,
 "nbformat_minor": 2
}
